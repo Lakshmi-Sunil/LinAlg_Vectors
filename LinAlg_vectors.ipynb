{
 "cells": [
  {
   "cell_type": "markdown",
   "metadata": {},
   "source": [
    "# Operations of Linear Algebra"
   ]
  },
  {
   "cell_type": "code",
   "execution_count": null,
   "metadata": {},
   "outputs": [],
   "source": [
    "import numpy as np\n",
    "import matplotlib.pyplot as plt\n",
    "import sys"
   ]
  },
  {
   "cell_type": "markdown",
   "metadata": {},
   "source": [
    "## Program for Addition of 2D vectors"
   ]
  },
  {
   "cell_type": "code",
   "execution_count": 2,
   "metadata": {},
   "outputs": [
    {
     "name": "stdout",
     "output_type": "stream",
     "text": [
      "Addition of 2D vectors\n",
      "Enter no: of vectors:2\n",
      "Enter vectors in comma-separated form(1,2):\n",
      "1,2\n",
      "3,1\n"
     ]
    },
    {
     "data": {
      "image/png": "[encoded data removed]",
      "text/plain": [
       "<Figure size 432x288 with 1 Axes>"
      ]
     },
     "metadata": {
      "needs_background": "light"
     },
     "output_type": "display_data"
    },
    {
     "data": {
      "image/png": "[encoded data removed]",
      "text/plain": [
       "<Figure size 432x288 with 1 Axes>"
      ]
     },
     "metadata": {
      "needs_background": "light"
     },
     "output_type": "display_data"
    }
   ],
   "source": [
    "print(\"Addition of 2D vectors\")\n",
    "n=int(input(\"Enter no: of vectors:\")) #input no: of vectors\n",
    "arr=np.zeros((n,2))\n",
    "print(\"Enter vectors in comma-separated form(1,2):\")\n",
    "#INPUT\n",
    "for i in range(0,n):\n",
    "        arr[i]=np.array(tuple(map(int,input().split(','))))\n",
    "rows,cols=arr.shape\n",
    "\n",
    "for i in range(0,rows):\n",
    "    xp = [0,arr[i,0]]\n",
    "    yp = [0,arr[i,1]]\n",
    "    plt.plot(xp,yp,color=\"blue\") #given vectors\n",
    "    \n",
    "#Plotting\n",
    "plt.title(\"Given Vectors\")\n",
    "plt.axis('equal')\n",
    "plt.grid(b=True, which='major')\n",
    "plt.show()\n",
    "\n",
    "#SUM vector\n",
    "sumxp=0\n",
    "sumyp=0\n",
    "for i in range(0,rows):\n",
    "    sumxp+=arr[i,0]\n",
    "    sumyp+=arr[i,1]\n",
    "#print(sumxp,sumyp)\n",
    "for i in range(0,rows):\n",
    "    xp = [0,arr[i,0]]\n",
    "    yp = [0,arr[i,1]]\n",
    "    plt.plot(xp,yp,color=\"blue\") #given vectors\n",
    "    \n",
    "#Plotting sum vector\n",
    "plt.plot([0,sumxp],[0,sumyp],color=\"red\") #sum vector\n",
    "plt.axis('square')\n",
    "plt.title(\"Sum Vector\")\n",
    "plt.grid(b=True, which='major')\n",
    "plt.show()"
   ]
  },
  {
   "cell_type": "markdown",
   "metadata": {},
   "source": [
    " ## Linear Transformation"
   ]
  },
  {
   "cell_type": "code",
   "execution_count": 3,
   "metadata": {},
   "outputs": [
    {
     "name": "stdout",
     "output_type": "stream",
     "text": [
      "Linear Transformation of a 2D vector\n",
      "Enter the vector:\n",
      "1,2\n",
      "[[1.]\n",
      " [2.]]\n",
      "Enter the values of the matrix(2x2):\n",
      "1\n",
      "2\n",
      "3\n",
      "4\n"
     ]
    }
   ],
   "source": [
    "print(\"Linear Transformation of a 2D vector\")\n",
    "print(\"Enter the vector(comma-separated):\") #input vector\n",
    "init=list(map(int,input().split(',')))\n",
    "vec=np.zeros((2,1))\n",
    "for i in range(0,2):\n",
    "    vec[i][0]=init[i]\n",
    "print(vec)\n",
    "lintrans=np.zeros((2,2))\n",
    "#INPUT matrix\n",
    "print(\"Enter the values of the matrix(2x2):\")\n",
    "for i in range(0,2):\n",
    "    for j in range(0,2):\n",
    "        lintrans[i][j]=int(input())"
   ]
  },
  {
   "cell_type": "code",
   "execution_count": 4,
   "metadata": {},
   "outputs": [
    {
     "name": "stdout",
     "output_type": "stream",
     "text": [
      "[[1. 2.]\n",
      " [3. 4.]]\n",
      "[[1.]\n",
      " [2.]]\n"
     ]
    }
   ],
   "source": [
    "print(lintrans)\n",
    "print(vec)"
   ]
  },
  {
   "cell_type": "code",
   "execution_count": 8,
   "metadata": {},
   "outputs": [
    {
     "name": "stdout",
     "output_type": "stream",
     "text": [
      "[[1.]\n",
      " [3.]]\n",
      "[[2.]\n",
      " [4.]]\n"
     ]
    },
    {
     "data": {
      "image/png": "[encoded data removed]",
      "text/plain": [
       "<Figure size 432x288 with 1 Axes>"
      ]
     },
     "metadata": {
      "needs_background": "light"
     },
     "output_type": "display_data"
    }
   ],
   "source": [
    "x=lintrans@[[1],[0]]\n",
    "y=lintrans@[[0],[1]]\n",
    "product=lintrans@vec #transformed vector\n",
    "\n",
    "print(x)\n",
    "print(y)\n",
    "\n",
    "#Plotting i-vector and j-vector along with transformation of those vectors\n",
    "plt.title(\"Transformation of i\\u0302 and j\\u0302\")\n",
    "\n",
    "plt.plot([0,x[0,0]],[0,x[1,0]],color=\"turquoise\") #transformed i-vector\n",
    "plt.plot([0,y[0,0]],[0,y[1,0]],color=\"sandybrown\") #transformed j-vector\n",
    "plt.plot([0,1],[0,0],label=\"i\\u0302\") #i-vector\n",
    "plt.plot([0,0],[1,0],label=\"j\\u0302\") #j-vector\n",
    "\n",
    "#plt.plot([0,vec[0,0]],[0,vec[1,0]],color=\"blue\")\n",
    "#plt.plot([0,product[0,0]],[0,product[1,0]],color=\"red\",label=\"transformed vector\")\n",
    "\n",
    "plt.grid(b=True, which='major')\n",
    "plt.axis('square')\n",
    "plt.legend()\n",
    "plt.show()"
   ]
  },
  {
   "cell_type": "code",
   "execution_count": 13,
   "metadata": {},
   "outputs": [
    {
     "data": {
      "image/png": "[encoded data removed]",
      "text/plain": [
       "<Figure size 432x288 with 1 Axes>"
      ]
     },
     "metadata": {
      "needs_background": "light"
     },
     "output_type": "display_data"
    }
   ],
   "source": [
    "#print(product)\n",
    "#Plotting given vector and transformation of given vector\n",
    "plt.title(\"Linear Transformation\")\n",
    "\n",
    "plt.plot([0,vec[0,0]],[0,vec[1,0]],color=\"blue\") #given vector\n",
    "plt.plot([0,product[0,0]],[0,product[1,0]],color=\"red\",label=\"transformed vector\") #transformed vector\n",
    "plt.grid(b=True, which='major')\n",
    "plt.legend()\n",
    "plt.show()"
   ]
  },
  {
   "cell_type": "markdown",
   "metadata": {},
   "source": [
    "## Change of basis"
   ]
  },
  {
   "cell_type": "code",
   "execution_count": 9,
   "metadata": {},
   "outputs": [
    {
     "name": "stdout",
     "output_type": "stream",
     "text": [
      "Change of basis\n",
      "Enter the vector(comma-separated):\n",
      "-1,2\n",
      "Enter the basis vectors(comma-separated):\n",
      "2,1\n",
      "-1,1\n",
      "[[-1.]\n",
      " [ 2.]]\n",
      "[[ 2. -1.]\n",
      " [ 1.  1.]]\n",
      "After Change of Basis:\n",
      "[[-4.]\n",
      " [ 1.]]\n"
     ]
    }
   ],
   "source": [
    "print(\"Change of basis\")\n",
    "print(\"Enter the vector(comma-separated):\") #input vector\n",
    "temp=list(map(int,input().split(',')))\n",
    "vect=np.zeros((2,1))\n",
    "for i in range(0,2):\n",
    "    vect[i][0]=temp[i]\n",
    "base=np.zeros((2,2))\n",
    "basis=np.zeros((2,2))\n",
    "#INPUT new basis\n",
    "print(\"Enter the basis vectors(comma-separated):\")\n",
    "for i in range(0,2):\n",
    "        base[i]=np.array(tuple(map(int,input().split(','))))\n",
    "for i in range(0,2):\n",
    "    for j in range(0,2):\n",
    "        basis[j][i]=base[i][j]\n",
    "changedvect=basis@vect\n",
    "\n",
    "print(vect)\n",
    "print(basis)\n",
    "print(\"After Change of Basis:\")\n",
    "print(changedvect)"
   ]
  },
  {
   "cell_type": "code",
   "execution_count": 10,
   "metadata": {},
   "outputs": [
    {
     "data": {
      "image/png": "[encoded data removed]",
      "text/plain": [
       "<Figure size 432x288 with 1 Axes>"
      ]
     },
     "metadata": {
      "needs_background": "light"
     },
     "output_type": "display_data"
    }
   ],
   "source": [
    "#Plotting\n",
    "plt.plot([0,vect[0,0]],[0,vect[1,0]],color=\"midnightblue\") #original vector\n",
    "plt.plot([0,changedvect[0,0]],[0,changedvect[1,0]],color=\"red\") #changed vector\n",
    "plt.text(vect[0,0],vect[1,0],\"Original vector\")\n",
    "plt.text(changedvect[0,0],changedvect[1,0],\"Changed vector\")\n",
    "plt.plot([0,1],[0,0],label=\"i\\u0302\") #i-vector\n",
    "plt.plot([0,0],[1,0],label=\"j\\u0302\",color=\"slateblue\") #j-vector\n",
    "plt.plot([0,basis[0,0]],[0,basis[1,0]],color=\"lightcoral\",label=\"new basis\") #new basis vector\n",
    "plt.plot([0,basis[0,1]],[0,basis[1,1]],color=\"lightcoral\") #new basis vector\n",
    "plt.grid(b=True, which='major')\n",
    "plt.axis('square')\n",
    "plt.legend()\n",
    "plt.show()"
   ]
  },
  {
   "cell_type": "markdown",
   "metadata": {},
   "source": [
    "## Change the basis to i-vector and j-vector"
   ]
  },
  {
   "cell_type": "code",
   "execution_count": null,
   "metadata": {},
   "outputs": [],
   "source": [
    "# print(\"Change the basis to i\\u0302 and j\\u0302\")\n",
    "print(\"Enter the vector(comma-separated):\")\n",
    "tempinv=list(map(int,input().split(',')))\n",
    "vectinv=np.zeros((2,1))\n",
    "for i in range(0,2):\n",
    "    vectinv[i][0]=tempinv[i]\n",
    "base=np.zeros((2,2))\n",
    "basis=np.zeros((2,2))\n",
    "print(\"Enter the basis vectors(comma-separated):\")\n",
    "for i in range(0,2):\n",
    "        base[i]=np.array(tuple(map(int,input().split(','))))\n",
    "for i in range(0,2):\n",
    "    for j in range(0,2):\n",
    "        basis[j][i]=base[i][j]\n",
    "base=np.linalg.inv(basis)\n",
    "inversevect=base@vectinv\n",
    "print(vectinv)\n",
    "print(basis)\n",
    "print(inversevect)"
   ]
  },
  {
   "cell_type": "code",
   "execution_count": 12,
   "metadata": {},
   "outputs": [
    {
     "data": {
      "image/png": "[encoded data removed]",
      "text/plain": [
       "<Figure size 432x288 with 1 Axes>"
      ]
     },
     "metadata": {
      "needs_background": "light"
     },
     "output_type": "display_data"
    }
   ],
   "source": [
    "plt.plot([0,vectinv[0,0]],[0,vectinv[1,0]],color=\"midnightblue\")\n",
    "plt.plot([0,inversevect[0,0]],[0,inversevect[1,0]],color=\"red\")\n",
    "plt.text(vectinv[0,0],vectinv[1,0],\"Given Vector\")\n",
    "plt.text(inversevect[0,0],inversevect[1,0],\"Vector\")\n",
    "plt.plot([0,1],[0,0],label=\"i\\u0302\")\n",
    "plt.plot([0,0],[1,0],label=\"j\\u0302\",color=\"slateblue\")\n",
    "plt.plot([0,basis[0,0]],[0,basis[1,0]],color=\"lightcoral\",label=\"given basis\")\n",
    "plt.plot([0,basis[0,1]],[0,basis[1,1]],color=\"lightcoral\")\n",
    "plt.grid(b=True, which='major')\n",
    "plt.axis('square')\n",
    "plt.legend()\n",
    "plt.show()"
   ]
  },
  {
   "cell_type": "code",
   "execution_count": null,
   "metadata": {},
   "outputs": [],
   "source": []
  }
 ],
 "metadata": {
  "kernelspec": {
   "display_name": "Python 3",
   "language": "python",
   "name": "python3"
  },
  "language_info": {
   "codemirror_mode": {
    "name": "ipython",
    "version": 3
   },
   "file_extension": ".py",
   "mimetype": "text/x-python",
   "name": "python",
   "nbconvert_exporter": "python",
   "pygments_lexer": "ipython3",
   "version": "3.7.6"
  }
 },
 "nbformat": 4,
 "nbformat_minor": 4
}
